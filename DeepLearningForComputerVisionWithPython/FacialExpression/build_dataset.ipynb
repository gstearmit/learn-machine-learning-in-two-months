{
 "cells": [
  {
   "cell_type": "code",
   "execution_count": 1,
   "metadata": {},
   "outputs": [
    {
     "name": "stderr",
     "output_type": "stream",
     "text": [
      "/home/shared/anaconda3/lib/python3.6/site-packages/h5py/__init__.py:36: FutureWarning: Conversion of the second argument of issubdtype from `float` to `np.floating` is deprecated. In future, it will be treated as `np.float64 == np.dtype(float).type`.\n",
      "  from ._conv import register_converters as _register_converters\n"
     ]
    }
   ],
   "source": [
    "import config\n",
    "from Utils.hdf5DatasetWriter import HDF5DatasetWriter\n",
    "import numpy as np"
   ]
  },
  {
   "cell_type": "code",
   "execution_count": 2,
   "metadata": {},
   "outputs": [],
   "source": [
    "f = open(config.INPUT_PATH)\n",
    "# skip the header of csv file\n",
    "f.__next__()\n",
    "\n",
    "(trainImages, trainLabels) = ([], [])\n",
    "(valImages, valLabels) = ([], [])\n",
    "(testImages, testLabels) = ([], [])\n",
    "\n",
    "for row in f:\n",
    "    (label, image, usage) = row.strip().split(',')\n",
    "    \n",
    "    label = int(label)\n",
    "    if label == 1:\n",
    "        label = 0\n",
    "    if label > 0:\n",
    "        label -= 1\n",
    "    \n",
    "    image = np.array(image.split(' '), dtype='uint8')\n",
    "    image = image.reshape((48, 48))\n",
    "    \n",
    "    if usage == 'Training':\n",
    "        trainImages.append(image)\n",
    "        trainLabels.append(label)\n",
    "    elif usage == 'PrivateTest':\n",
    "        valImages.append(image)\n",
    "        valLabels.append(label)\n",
    "    else:\n",
    "        testImages.append(image)\n",
    "        testLabels.append(label)"
   ]
  },
  {
   "cell_type": "code",
   "execution_count": 6,
   "metadata": {},
   "outputs": [],
   "source": [
    "dataset = [[config.TRAIN_HDF5, trainImages, trainLabels],\n",
    "           [config.VAL_HDF5, valImages, valLabels],\n",
    "           [config.TEST_HDF5, testImages, testLabels]]\n",
    "\n",
    "for (outputPath, images, labels) in dataset:\n",
    "    writer = HDF5DatasetWriter((len(images), 48, 48), outputPath)\n",
    "    for (image, label) in zip(images, labels):\n",
    "        writer.add([image], [label])\n",
    "    writer.close()\n",
    "\n",
    "f.close()"
   ]
  }
 ],
 "metadata": {
  "kernelspec": {
   "display_name": "Python 3",
   "language": "python",
   "name": "python3"
  },
  "language_info": {
   "codemirror_mode": {
    "name": "ipython",
    "version": 3
   },
   "file_extension": ".py",
   "mimetype": "text/x-python",
   "name": "python",
   "nbconvert_exporter": "python",
   "pygments_lexer": "ipython3",
   "version": "3.6.4"
  }
 },
 "nbformat": 4,
 "nbformat_minor": 2
}

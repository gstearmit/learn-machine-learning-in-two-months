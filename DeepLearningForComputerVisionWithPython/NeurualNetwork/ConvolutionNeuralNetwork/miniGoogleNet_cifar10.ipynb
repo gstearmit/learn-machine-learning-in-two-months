{
 "cells": [
  {
   "cell_type": "code",
   "execution_count": 1,
   "metadata": {},
   "outputs": [
    {
     "name": "stderr",
     "output_type": "stream",
     "text": [
      "/home/shared/anaconda3/lib/python3.6/site-packages/h5py/__init__.py:36: FutureWarning: Conversion of the second argument of issubdtype from `float` to `np.floating` is deprecated. In future, it will be treated as `np.float64 == np.dtype(float).type`.\n",
      "  from ._conv import register_converters as _register_converters\n",
      "Using TensorFlow backend.\n"
     ]
    }
   ],
   "source": [
    "from sklearn.preprocessing import LabelBinarizer\n",
    "from miniGoogleNet import MiniGoogleNet\n",
    "from keras.preprocessing.image import ImageDataGenerator\n",
    "from keras.callbacks import LearningRateScheduler\n",
    "from keras.optimizers import SGD\n",
    "from keras.datasets import cifar10"
   ]
  },
  {
   "cell_type": "code",
   "execution_count": 2,
   "metadata": {},
   "outputs": [],
   "source": [
    "NUM_EPOCHS = 70\n",
    "INIT_LR = 5e-3\n",
    "\n",
    "def poly_decay(epoch):\n",
    "    maxEpoch = NUM_EPOCHS\n",
    "    baseLR = INIT_LR\n",
    "    power = 1.0\n",
    "    alpha = baseLR * (1 - epoch / float(maxEpoch)) ** power\n",
    "    # Return new learning rate    \n",
    "    return alpha"
   ]
  },
  {
   "cell_type": "code",
   "execution_count": 3,
   "metadata": {},
   "outputs": [
    {
     "name": "stdout",
     "output_type": "stream",
     "text": [
      "Downloading data from https://www.cs.toronto.edu/~kriz/cifar-10-python.tar.gz\n",
      "170500096/170498071 [==============================] - 12s 0us/step\n"
     ]
    }
   ],
   "source": [
    "(X_train, y_train), (X_test, y_test) = cifar10.load_data()\n",
    "X_train = X_train.astype('float')/255\n",
    "X_test = X_test.astype('float')/255\n",
    "\n",
    "lb = LabelBinarizer()\n",
    "y_train = lb.fit_transform(y_train)\n",
    "y_test = lb.fit_transform(y_test)"
   ]
  },
  {
   "cell_type": "code",
   "execution_count": 4,
   "metadata": {},
   "outputs": [
    {
     "name": "stdout",
     "output_type": "stream",
     "text": [
      "Epoch 1/70\n",
      "781/781 [==============================] - 52s 67ms/step - loss: 1.4877 - acc: 0.4558 - val_loss: 1.3574 - val_acc: 0.4919\n",
      "Epoch 2/70\n",
      "781/781 [==============================] - 34s 44ms/step - loss: 1.0693 - acc: 0.6193 - val_loss: 1.6740 - val_acc: 0.4618\n",
      "Epoch 3/70\n",
      "781/781 [==============================] - 33s 42ms/step - loss: 0.8790 - acc: 0.6888 - val_loss: 1.2657 - val_acc: 0.6004\n",
      "Epoch 4/70\n",
      "781/781 [==============================] - 33s 42ms/step - loss: 0.7657 - acc: 0.7314 - val_loss: 1.0822 - val_acc: 0.6555\n",
      "Epoch 5/70\n",
      "781/781 [==============================] - 33s 42ms/step - loss: 0.6843 - acc: 0.7632 - val_loss: 0.7656 - val_acc: 0.7431\n",
      "Epoch 6/70\n",
      "781/781 [==============================] - 33s 42ms/step - loss: 0.6236 - acc: 0.7846 - val_loss: 0.9214 - val_acc: 0.7168\n",
      "Epoch 7/70\n",
      "781/781 [==============================] - 33s 42ms/step - loss: 0.5754 - acc: 0.8015 - val_loss: 0.7351 - val_acc: 0.7600\n",
      "Epoch 8/70\n",
      "781/781 [==============================] - 33s 42ms/step - loss: 0.5417 - acc: 0.8130 - val_loss: 0.7487 - val_acc: 0.7541\n",
      "Epoch 9/70\n",
      "781/781 [==============================] - 33s 42ms/step - loss: 0.5013 - acc: 0.8282 - val_loss: 0.6238 - val_acc: 0.7938\n",
      "Epoch 10/70\n",
      "781/781 [==============================] - 33s 42ms/step - loss: 0.4751 - acc: 0.8361 - val_loss: 0.6576 - val_acc: 0.7918\n",
      "Epoch 11/70\n",
      "781/781 [==============================] - 33s 42ms/step - loss: 0.4427 - acc: 0.8487 - val_loss: 0.6201 - val_acc: 0.7954\n",
      "Epoch 12/70\n",
      "781/781 [==============================] - 33s 42ms/step - loss: 0.4225 - acc: 0.8559 - val_loss: 0.6441 - val_acc: 0.7864\n",
      "Epoch 13/70\n",
      "781/781 [==============================] - 33s 42ms/step - loss: 0.4015 - acc: 0.8647 - val_loss: 0.6021 - val_acc: 0.8054\n",
      "Epoch 14/70\n",
      "781/781 [==============================] - 33s 42ms/step - loss: 0.3796 - acc: 0.8693 - val_loss: 0.5862 - val_acc: 0.8052\n",
      "Epoch 15/70\n",
      "781/781 [==============================] - 33s 42ms/step - loss: 0.3646 - acc: 0.8752 - val_loss: 0.6470 - val_acc: 0.7964\n",
      "Epoch 16/70\n",
      "781/781 [==============================] - 33s 42ms/step - loss: 0.3488 - acc: 0.8817 - val_loss: 0.4882 - val_acc: 0.8369\n",
      "Epoch 17/70\n",
      "781/781 [==============================] - 33s 42ms/step - loss: 0.3289 - acc: 0.8877 - val_loss: 0.5440 - val_acc: 0.8325\n",
      "Epoch 18/70\n",
      "781/781 [==============================] - 33s 42ms/step - loss: 0.3186 - acc: 0.8905 - val_loss: 0.6266 - val_acc: 0.8123\n",
      "Epoch 19/70\n",
      "781/781 [==============================] - 33s 42ms/step - loss: 0.2988 - acc: 0.8986 - val_loss: 0.6423 - val_acc: 0.8098\n",
      "Epoch 20/70\n",
      "781/781 [==============================] - 33s 42ms/step - loss: 0.2921 - acc: 0.8998 - val_loss: 0.5183 - val_acc: 0.8384\n",
      "Epoch 21/70\n",
      "781/781 [==============================] - 33s 42ms/step - loss: 0.2761 - acc: 0.9053 - val_loss: 0.6425 - val_acc: 0.8027\n",
      "Epoch 22/70\n",
      "781/781 [==============================] - 33s 42ms/step - loss: 0.2690 - acc: 0.9088 - val_loss: 0.5606 - val_acc: 0.8329\n",
      "Epoch 23/70\n",
      "781/781 [==============================] - 33s 42ms/step - loss: 0.2588 - acc: 0.9123 - val_loss: 0.6095 - val_acc: 0.8156\n",
      "Epoch 24/70\n",
      "781/781 [==============================] - 33s 42ms/step - loss: 0.2469 - acc: 0.9148 - val_loss: 0.3925 - val_acc: 0.8697\n",
      "Epoch 25/70\n",
      "781/781 [==============================] - 33s 42ms/step - loss: 0.2381 - acc: 0.9183 - val_loss: 0.4332 - val_acc: 0.8593\n",
      "Epoch 26/70\n",
      "781/781 [==============================] - 33s 42ms/step - loss: 0.2292 - acc: 0.9202 - val_loss: 0.4207 - val_acc: 0.8652\n",
      "Epoch 27/70\n",
      "781/781 [==============================] - 33s 42ms/step - loss: 0.2163 - acc: 0.9251 - val_loss: 0.5292 - val_acc: 0.8439\n",
      "Epoch 28/70\n",
      "781/781 [==============================] - 33s 42ms/step - loss: 0.2118 - acc: 0.9271 - val_loss: 0.4921 - val_acc: 0.8500\n",
      "Epoch 29/70\n",
      "781/781 [==============================] - 33s 42ms/step - loss: 0.2040 - acc: 0.9296 - val_loss: 0.4520 - val_acc: 0.8607\n",
      "Epoch 30/70\n",
      "781/781 [==============================] - 33s 42ms/step - loss: 0.1966 - acc: 0.9313 - val_loss: 0.4735 - val_acc: 0.8514\n",
      "Epoch 31/70\n",
      "781/781 [==============================] - 33s 42ms/step - loss: 0.1847 - acc: 0.9372 - val_loss: 0.4646 - val_acc: 0.8608\n",
      "Epoch 32/70\n",
      "781/781 [==============================] - 33s 42ms/step - loss: 0.1772 - acc: 0.9394 - val_loss: 0.4184 - val_acc: 0.8722\n",
      "Epoch 33/70\n",
      "781/781 [==============================] - 33s 42ms/step - loss: 0.1739 - acc: 0.9405 - val_loss: 0.4607 - val_acc: 0.8652\n",
      "Epoch 34/70\n",
      "781/781 [==============================] - 33s 42ms/step - loss: 0.1665 - acc: 0.9425 - val_loss: 0.4978 - val_acc: 0.8528\n",
      "Epoch 35/70\n",
      "781/781 [==============================] - 33s 42ms/step - loss: 0.1571 - acc: 0.9458 - val_loss: 0.5676 - val_acc: 0.8426\n",
      "Epoch 36/70\n",
      "781/781 [==============================] - 33s 42ms/step - loss: 0.1557 - acc: 0.9473 - val_loss: 0.3943 - val_acc: 0.8767\n",
      "Epoch 37/70\n",
      "781/781 [==============================] - 32s 42ms/step - loss: 0.1484 - acc: 0.9480 - val_loss: 0.4533 - val_acc: 0.8674\n",
      "Epoch 38/70\n",
      "781/781 [==============================] - 33s 42ms/step - loss: 0.1450 - acc: 0.9505 - val_loss: 0.4543 - val_acc: 0.8744\n",
      "Epoch 39/70\n",
      "781/781 [==============================] - 33s 42ms/step - loss: 0.1359 - acc: 0.9528 - val_loss: 0.4497 - val_acc: 0.8746\n",
      "Epoch 40/70\n",
      "781/781 [==============================] - 33s 42ms/step - loss: 0.1312 - acc: 0.9550 - val_loss: 0.4316 - val_acc: 0.8785\n",
      "Epoch 41/70\n",
      "781/781 [==============================] - 33s 42ms/step - loss: 0.1250 - acc: 0.9574 - val_loss: 0.3943 - val_acc: 0.8867\n",
      "Epoch 42/70\n",
      "781/781 [==============================] - 33s 42ms/step - loss: 0.1166 - acc: 0.9601 - val_loss: 0.3708 - val_acc: 0.8887\n",
      "Epoch 43/70\n",
      "781/781 [==============================] - 33s 43ms/step - loss: 0.1180 - acc: 0.9594 - val_loss: 0.3836 - val_acc: 0.8856\n",
      "Epoch 44/70\n",
      "781/781 [==============================] - 33s 42ms/step - loss: 0.1077 - acc: 0.9634 - val_loss: 0.4162 - val_acc: 0.8807\n",
      "Epoch 45/70\n",
      "781/781 [==============================] - 33s 42ms/step - loss: 0.1044 - acc: 0.9638 - val_loss: 0.4338 - val_acc: 0.8794\n",
      "Epoch 46/70\n",
      "781/781 [==============================] - 33s 42ms/step - loss: 0.1029 - acc: 0.9652 - val_loss: 0.4387 - val_acc: 0.8843\n",
      "Epoch 47/70\n",
      "781/781 [==============================] - 33s 42ms/step - loss: 0.1001 - acc: 0.9651 - val_loss: 0.3901 - val_acc: 0.8871\n",
      "Epoch 48/70\n",
      "781/781 [==============================] - 33s 42ms/step - loss: 0.0971 - acc: 0.9674 - val_loss: 0.4154 - val_acc: 0.8861\n",
      "Epoch 49/70\n",
      "781/781 [==============================] - 32s 42ms/step - loss: 0.0900 - acc: 0.9692 - val_loss: 0.4128 - val_acc: 0.8845\n",
      "Epoch 50/70\n",
      "781/781 [==============================] - 33s 42ms/step - loss: 0.0848 - acc: 0.9718 - val_loss: 0.4041 - val_acc: 0.8852\n",
      "Epoch 51/70\n",
      "781/781 [==============================] - 33s 42ms/step - loss: 0.0815 - acc: 0.9728 - val_loss: 0.4332 - val_acc: 0.8820\n",
      "Epoch 52/70\n",
      "781/781 [==============================] - 33s 42ms/step - loss: 0.0779 - acc: 0.9749 - val_loss: 0.4057 - val_acc: 0.8902\n",
      "Epoch 53/70\n",
      "781/781 [==============================] - 33s 42ms/step - loss: 0.0758 - acc: 0.9748 - val_loss: 0.3933 - val_acc: 0.8935\n",
      "Epoch 54/70\n",
      "781/781 [==============================] - 33s 42ms/step - loss: 0.0731 - acc: 0.9755 - val_loss: 0.4232 - val_acc: 0.8866\n",
      "Epoch 55/70\n",
      "781/781 [==============================] - 33s 42ms/step - loss: 0.0689 - acc: 0.9772 - val_loss: 0.3879 - val_acc: 0.8950\n",
      "Epoch 56/70\n",
      "781/781 [==============================] - 33s 42ms/step - loss: 0.0665 - acc: 0.9780 - val_loss: 0.4050 - val_acc: 0.8915\n",
      "Epoch 57/70\n",
      "781/781 [==============================] - 33s 42ms/step - loss: 0.0627 - acc: 0.9797 - val_loss: 0.4109 - val_acc: 0.8928\n",
      "Epoch 58/70\n",
      "781/781 [==============================] - 33s 42ms/step - loss: 0.0624 - acc: 0.9798 - val_loss: 0.3920 - val_acc: 0.8957\n",
      "Epoch 59/70\n",
      "781/781 [==============================] - 33s 42ms/step - loss: 0.0587 - acc: 0.9809 - val_loss: 0.4093 - val_acc: 0.8939\n",
      "Epoch 60/70\n",
      "781/781 [==============================] - 33s 42ms/step - loss: 0.0576 - acc: 0.9814 - val_loss: 0.3784 - val_acc: 0.8976\n",
      "Epoch 61/70\n",
      "781/781 [==============================] - 33s 42ms/step - loss: 0.0552 - acc: 0.9820 - val_loss: 0.3911 - val_acc: 0.8975\n"
     ]
    },
    {
     "name": "stdout",
     "output_type": "stream",
     "text": [
      "Epoch 62/70\n",
      "781/781 [==============================] - 33s 42ms/step - loss: 0.0497 - acc: 0.9841 - val_loss: 0.3798 - val_acc: 0.9001\n",
      "Epoch 63/70\n",
      "781/781 [==============================] - 33s 42ms/step - loss: 0.0512 - acc: 0.9840 - val_loss: 0.3779 - val_acc: 0.9014\n",
      "Epoch 64/70\n",
      "781/781 [==============================] - 32s 41ms/step - loss: 0.0502 - acc: 0.9845 - val_loss: 0.3733 - val_acc: 0.9024\n",
      "Epoch 65/70\n",
      "781/781 [==============================] - 33s 42ms/step - loss: 0.0466 - acc: 0.9856 - val_loss: 0.3608 - val_acc: 0.9041\n",
      "Epoch 66/70\n",
      "781/781 [==============================] - 33s 42ms/step - loss: 0.0448 - acc: 0.9862 - val_loss: 0.3730 - val_acc: 0.9019\n",
      "Epoch 67/70\n",
      "781/781 [==============================] - 33s 42ms/step - loss: 0.0457 - acc: 0.9854 - val_loss: 0.3702 - val_acc: 0.9025\n",
      "Epoch 68/70\n",
      "781/781 [==============================] - 33s 42ms/step - loss: 0.0428 - acc: 0.9872 - val_loss: 0.3686 - val_acc: 0.9041\n",
      "Epoch 69/70\n",
      "781/781 [==============================] - 33s 42ms/step - loss: 0.0429 - acc: 0.9865 - val_loss: 0.3642 - val_acc: 0.9026\n",
      "Epoch 70/70\n",
      "781/781 [==============================] - 33s 42ms/step - loss: 0.0409 - acc: 0.9878 - val_loss: 0.3638 - val_acc: 0.9045\n"
     ]
    }
   ],
   "source": [
    "aug = ImageDataGenerator(width_shift_range=0.1, height_shift_range=0.1, horizontal_flip=True, fill_mode='nearest')\n",
    "\n",
    "callbacks = [LearningRateScheduler(poly_decay)]\n",
    "\n",
    "opt = SGD(lr = INIT_LR, momentum=0.9)\n",
    "model = MiniGoogleNet.build(32, 32, 3, 10)\n",
    "model.compile(opt, 'categorical_crossentropy', ['accuracy'])\n",
    "H = model.fit_generator(aug.flow(X_train, y_train, batch_size=64), validation_data=(X_test, y_test),\n",
    "                    steps_per_epoch=len(X_train)//64, epochs=NUM_EPOCHS, callbacks=callbacks, verbose=1)"
   ]
  },
  {
   "cell_type": "code",
   "execution_count": 5,
   "metadata": {},
   "outputs": [],
   "source": [
    "model.save('model.hdf5')"
   ]
  }
 ],
 "metadata": {
  "kernelspec": {
   "display_name": "Python 3",
   "language": "python",
   "name": "python3"
  },
  "language_info": {
   "codemirror_mode": {
    "name": "ipython",
    "version": 3
   },
   "file_extension": ".py",
   "mimetype": "text/x-python",
   "name": "python",
   "nbconvert_exporter": "python",
   "pygments_lexer": "ipython3",
   "version": "3.6.4"
  }
 },
 "nbformat": 4,
 "nbformat_minor": 2
}

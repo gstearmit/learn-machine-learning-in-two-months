{
  "nbformat": 4,
  "nbformat_minor": 0,
  "metadata": {
    "colab": {
      "provenance": []
    },
    "kernelspec": {
      "name": "python3",
      "display_name": "Python 3"
    },
    "language_info": {
      "name": "python"
    },
    "accelerator": "GPU"
  },
  "cells": [
    {
      "cell_type": "markdown",
      "metadata": {
        "id": "3eU4ZlBDREgm"
      },
      "source": [
        "## 1. Load Data\n"
      ]
    },
    {
      "cell_type": "code",
      "metadata": {
        "colab": {
          "base_uri": "https://localhost:8080/"
        },
        "id": "faAzGrS7S-a7",
        "outputId": "67bbbbbb-2cce-483f-afd4-47db0565a9c1"
      },
      "source": [
        "!pip install tensorflow_addons"
      ],
      "execution_count": null,
      "outputs": [
        {
          "output_type": "stream",
          "text": [
            "Collecting tensorflow_addons\n",
            "  Downloading tensorflow_addons-0.14.0-cp37-cp37m-manylinux_2_12_x86_64.manylinux2010_x86_64.whl (1.1 MB)\n",
            "\u001b[?25l\r\u001b[K     |▎                               | 10 kB 37.8 MB/s eta 0:00:01\r\u001b[K     |▋                               | 20 kB 34.8 MB/s eta 0:00:01\r\u001b[K     |▉                               | 30 kB 21.1 MB/s eta 0:00:01\r\u001b[K     |█▏                              | 40 kB 17.1 MB/s eta 0:00:01\r\u001b[K     |█▌                              | 51 kB 9.8 MB/s eta 0:00:01\r\u001b[K     |█▊                              | 61 kB 10.1 MB/s eta 0:00:01\r\u001b[K     |██                              | 71 kB 9.9 MB/s eta 0:00:01\r\u001b[K     |██▍                             | 81 kB 11.0 MB/s eta 0:00:01\r\u001b[K     |██▋                             | 92 kB 11.2 MB/s eta 0:00:01\r\u001b[K     |███                             | 102 kB 9.3 MB/s eta 0:00:01\r\u001b[K     |███▎                            | 112 kB 9.3 MB/s eta 0:00:01\r\u001b[K     |███▌                            | 122 kB 9.3 MB/s eta 0:00:01\r\u001b[K     |███▉                            | 133 kB 9.3 MB/s eta 0:00:01\r\u001b[K     |████▏                           | 143 kB 9.3 MB/s eta 0:00:01\r\u001b[K     |████▍                           | 153 kB 9.3 MB/s eta 0:00:01\r\u001b[K     |████▊                           | 163 kB 9.3 MB/s eta 0:00:01\r\u001b[K     |█████                           | 174 kB 9.3 MB/s eta 0:00:01\r\u001b[K     |█████▎                          | 184 kB 9.3 MB/s eta 0:00:01\r\u001b[K     |█████▋                          | 194 kB 9.3 MB/s eta 0:00:01\r\u001b[K     |██████                          | 204 kB 9.3 MB/s eta 0:00:01\r\u001b[K     |██████▏                         | 215 kB 9.3 MB/s eta 0:00:01\r\u001b[K     |██████▌                         | 225 kB 9.3 MB/s eta 0:00:01\r\u001b[K     |██████▉                         | 235 kB 9.3 MB/s eta 0:00:01\r\u001b[K     |███████                         | 245 kB 9.3 MB/s eta 0:00:01\r\u001b[K     |███████▍                        | 256 kB 9.3 MB/s eta 0:00:01\r\u001b[K     |███████▊                        | 266 kB 9.3 MB/s eta 0:00:01\r\u001b[K     |████████                        | 276 kB 9.3 MB/s eta 0:00:01\r\u001b[K     |████████▎                       | 286 kB 9.3 MB/s eta 0:00:01\r\u001b[K     |████████▋                       | 296 kB 9.3 MB/s eta 0:00:01\r\u001b[K     |████████▉                       | 307 kB 9.3 MB/s eta 0:00:01\r\u001b[K     |█████████▏                      | 317 kB 9.3 MB/s eta 0:00:01\r\u001b[K     |█████████▌                      | 327 kB 9.3 MB/s eta 0:00:01\r\u001b[K     |█████████▊                      | 337 kB 9.3 MB/s eta 0:00:01\r\u001b[K     |██████████                      | 348 kB 9.3 MB/s eta 0:00:01\r\u001b[K     |██████████▍                     | 358 kB 9.3 MB/s eta 0:00:01\r\u001b[K     |██████████▋                     | 368 kB 9.3 MB/s eta 0:00:01\r\u001b[K     |███████████                     | 378 kB 9.3 MB/s eta 0:00:01\r\u001b[K     |███████████▎                    | 389 kB 9.3 MB/s eta 0:00:01\r\u001b[K     |███████████▌                    | 399 kB 9.3 MB/s eta 0:00:01\r\u001b[K     |███████████▉                    | 409 kB 9.3 MB/s eta 0:00:01\r\u001b[K     |████████████▏                   | 419 kB 9.3 MB/s eta 0:00:01\r\u001b[K     |████████████▍                   | 430 kB 9.3 MB/s eta 0:00:01\r\u001b[K     |████████████▊                   | 440 kB 9.3 MB/s eta 0:00:01\r\u001b[K     |█████████████                   | 450 kB 9.3 MB/s eta 0:00:01\r\u001b[K     |█████████████▎                  | 460 kB 9.3 MB/s eta 0:00:01\r\u001b[K     |█████████████▋                  | 471 kB 9.3 MB/s eta 0:00:01\r\u001b[K     |██████████████                  | 481 kB 9.3 MB/s eta 0:00:01\r\u001b[K     |██████████████▏                 | 491 kB 9.3 MB/s eta 0:00:01\r\u001b[K     |██████████████▌                 | 501 kB 9.3 MB/s eta 0:00:01\r\u001b[K     |██████████████▉                 | 512 kB 9.3 MB/s eta 0:00:01\r\u001b[K     |███████████████                 | 522 kB 9.3 MB/s eta 0:00:01\r\u001b[K     |███████████████▍                | 532 kB 9.3 MB/s eta 0:00:01\r\u001b[K     |███████████████▊                | 542 kB 9.3 MB/s eta 0:00:01\r\u001b[K     |████████████████                | 552 kB 9.3 MB/s eta 0:00:01\r\u001b[K     |████████████████▎               | 563 kB 9.3 MB/s eta 0:00:01\r\u001b[K     |████████████████▋               | 573 kB 9.3 MB/s eta 0:00:01\r\u001b[K     |████████████████▉               | 583 kB 9.3 MB/s eta 0:00:01\r\u001b[K     |█████████████████▏              | 593 kB 9.3 MB/s eta 0:00:01\r\u001b[K     |█████████████████▌              | 604 kB 9.3 MB/s eta 0:00:01\r\u001b[K     |█████████████████▊              | 614 kB 9.3 MB/s eta 0:00:01\r\u001b[K     |██████████████████              | 624 kB 9.3 MB/s eta 0:00:01\r\u001b[K     |██████████████████▍             | 634 kB 9.3 MB/s eta 0:00:01\r\u001b[K     |██████████████████▋             | 645 kB 9.3 MB/s eta 0:00:01\r\u001b[K     |███████████████████             | 655 kB 9.3 MB/s eta 0:00:01\r\u001b[K     |███████████████████▎            | 665 kB 9.3 MB/s eta 0:00:01\r\u001b[K     |███████████████████▌            | 675 kB 9.3 MB/s eta 0:00:01\r\u001b[K     |███████████████████▉            | 686 kB 9.3 MB/s eta 0:00:01\r\u001b[K     |████████████████████▏           | 696 kB 9.3 MB/s eta 0:00:01\r\u001b[K     |████████████████████▍           | 706 kB 9.3 MB/s eta 0:00:01\r\u001b[K     |████████████████████▊           | 716 kB 9.3 MB/s eta 0:00:01\r\u001b[K     |█████████████████████           | 727 kB 9.3 MB/s eta 0:00:01\r\u001b[K     |█████████████████████▎          | 737 kB 9.3 MB/s eta 0:00:01\r\u001b[K     |█████████████████████▋          | 747 kB 9.3 MB/s eta 0:00:01\r\u001b[K     |██████████████████████          | 757 kB 9.3 MB/s eta 0:00:01\r\u001b[K     |██████████████████████▏         | 768 kB 9.3 MB/s eta 0:00:01\r\u001b[K     |██████████████████████▌         | 778 kB 9.3 MB/s eta 0:00:01\r\u001b[K     |██████████████████████▉         | 788 kB 9.3 MB/s eta 0:00:01\r\u001b[K     |███████████████████████         | 798 kB 9.3 MB/s eta 0:00:01\r\u001b[K     |███████████████████████▍        | 808 kB 9.3 MB/s eta 0:00:01\r\u001b[K     |███████████████████████▊        | 819 kB 9.3 MB/s eta 0:00:01\r\u001b[K     |████████████████████████        | 829 kB 9.3 MB/s eta 0:00:01\r\u001b[K     |████████████████████████▎       | 839 kB 9.3 MB/s eta 0:00:01\r\u001b[K     |████████████████████████▋       | 849 kB 9.3 MB/s eta 0:00:01\r\u001b[K     |████████████████████████▉       | 860 kB 9.3 MB/s eta 0:00:01\r\u001b[K     |█████████████████████████▏      | 870 kB 9.3 MB/s eta 0:00:01\r\u001b[K     |█████████████████████████▍      | 880 kB 9.3 MB/s eta 0:00:01\r\u001b[K     |█████████████████████████▊      | 890 kB 9.3 MB/s eta 0:00:01\r\u001b[K     |██████████████████████████      | 901 kB 9.3 MB/s eta 0:00:01\r\u001b[K     |██████████████████████████▎     | 911 kB 9.3 MB/s eta 0:00:01\r\u001b[K     |██████████████████████████▋     | 921 kB 9.3 MB/s eta 0:00:01\r\u001b[K     |███████████████████████████     | 931 kB 9.3 MB/s eta 0:00:01\r\u001b[K     |███████████████████████████▏    | 942 kB 9.3 MB/s eta 0:00:01\r\u001b[K     |███████████████████████████▌    | 952 kB 9.3 MB/s eta 0:00:01\r\u001b[K     |███████████████████████████▉    | 962 kB 9.3 MB/s eta 0:00:01\r\u001b[K     |████████████████████████████    | 972 kB 9.3 MB/s eta 0:00:01\r\u001b[K     |████████████████████████████▍   | 983 kB 9.3 MB/s eta 0:00:01\r\u001b[K     |████████████████████████████▊   | 993 kB 9.3 MB/s eta 0:00:01\r\u001b[K     |█████████████████████████████   | 1.0 MB 9.3 MB/s eta 0:00:01\r\u001b[K     |█████████████████████████████▎  | 1.0 MB 9.3 MB/s eta 0:00:01\r\u001b[K     |█████████████████████████████▋  | 1.0 MB 9.3 MB/s eta 0:00:01\r\u001b[K     |█████████████████████████████▉  | 1.0 MB 9.3 MB/s eta 0:00:01\r\u001b[K     |██████████████████████████████▏ | 1.0 MB 9.3 MB/s eta 0:00:01\r\u001b[K     |██████████████████████████████▌ | 1.1 MB 9.3 MB/s eta 0:00:01\r\u001b[K     |██████████████████████████████▊ | 1.1 MB 9.3 MB/s eta 0:00:01\r\u001b[K     |███████████████████████████████ | 1.1 MB 9.3 MB/s eta 0:00:01\r\u001b[K     |███████████████████████████████▍| 1.1 MB 9.3 MB/s eta 0:00:01\r\u001b[K     |███████████████████████████████▋| 1.1 MB 9.3 MB/s eta 0:00:01\r\u001b[K     |████████████████████████████████| 1.1 MB 9.3 MB/s eta 0:00:01\r\u001b[K     |████████████████████████████████| 1.1 MB 9.3 MB/s \n",
            "\u001b[?25hRequirement already satisfied: typeguard>=2.7 in /usr/local/lib/python3.7/dist-packages (from tensorflow_addons) (2.7.1)\n",
            "Installing collected packages: tensorflow-addons\n",
            "Successfully installed tensorflow-addons-0.14.0\n"
          ],
          "name": "stdout"
        }
      ]
    },
    {
      "cell_type": "code",
      "metadata": {
        "colab": {
          "base_uri": "https://localhost:8080/"
        },
        "id": "CnH_GNPQQyy5",
        "outputId": "0285c3d8-a9b1-46c2-e29c-16c6c412f113"
      },
      "source": [
        "!git clone https://github.com/bangoc123/mlp-mixer"
      ],
      "execution_count": null,
      "outputs": [
        {
          "output_type": "stream",
          "text": [
            "Cloning into 'mlp-mixer'...\n",
            "remote: Enumerating objects: 59, done.\u001b[K\n",
            "remote: Counting objects: 100% (59/59), done.\u001b[K\n",
            "remote: Compressing objects: 100% (36/36), done.\u001b[K\n",
            "remote: Total 59 (delta 27), reused 45 (delta 16), pack-reused 0\u001b[K\n",
            "Unpacking objects: 100% (59/59), done.\n"
          ],
          "name": "stdout"
        }
      ]
    },
    {
      "cell_type": "code",
      "metadata": {
        "colab": {
          "base_uri": "https://localhost:8080/"
        },
        "id": "EirC-pofS0VQ",
        "outputId": "cead23a0-df1c-4597-cfa0-c8071e647586"
      },
      "source": [
        "cd mlp-mixer"
      ],
      "execution_count": null,
      "outputs": [
        {
          "output_type": "stream",
          "text": [
            "/content/mlp-mixer\n"
          ],
          "name": "stdout"
        }
      ]
    },
    {
      "cell_type": "code",
      "metadata": {
        "id": "a2zMLcyQSw7o"
      },
      "source": [
        "train_folder = './data/cats_and_dogs_filtered/train'\n",
        "valid_folder = './data/cats_and_dogs_filtered/validation'\n",
        "\n",
        "!wget --no-check-certificate \\\n",
        "  https://storage.googleapis.com/mledu-datasets/cats_and_dogs_filtered.zip \\\n",
        "  -O ./cats_and_dogs_filtered.zip"
      ],
      "execution_count": null,
      "outputs": []
    },
    {
      "cell_type": "code",
      "metadata": {
        "id": "7zAeJk-VRCuI"
      },
      "source": [
        "# Unzip the data\n",
        "main_folder = './data'\n",
        "!unzip -q cats_and_dogs_filtered.zip -d $main_folder"
      ],
      "execution_count": null,
      "outputs": []
    },
    {
      "cell_type": "markdown",
      "metadata": {
        "id": "v0P7BOfnR69S"
      },
      "source": [
        "## 2. Train model"
      ]
    },
    {
      "cell_type": "code",
      "metadata": {
        "id": "oFrHbd-sR8Rv"
      },
      "source": [
        "!python train.py --epochs 100 --num-classes 2 --train-folder $train_folder --valid-folder $valid_folder"
      ],
      "execution_count": null,
      "outputs": []
    },
    {
      "cell_type": "code",
      "metadata": {
        "id": "thNs_hitGMLw"
      },
      "source": [],
      "execution_count": null,
      "outputs": []
    }
  ]
}
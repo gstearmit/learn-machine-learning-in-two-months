{
 "cells": [
  {
   "cell_type": "markdown",
   "id": "43133b7a",
   "metadata": {},
   "source": [
    "## Importing Libraries\n",
    "**Importing the libraries needed to build this program**"
   ]
  },
  {
   "cell_type": "code",
   "execution_count": 2,
   "id": "7a90213d",
   "metadata": {},
   "outputs": [
    {
     "name": "stdout",
     "output_type": "stream",
     "text": [
      "WARNING:tensorflow:From c:\\Users\\mustu\\anaconda3\\Lib\\site-packages\\keras\\src\\losses.py:2976: The name tf.losses.sparse_softmax_cross_entropy is deprecated. Please use tf.compat.v1.losses.sparse_softmax_cross_entropy instead.\n",
      "\n"
     ]
    }
   ],
   "source": [
    "import pandas as pd\n",
    "import numpy as np\n",
    "import tensorflow as tf\n",
    "from PIL import Image\n",
    "import os\n",
    "from sklearn.model_selection import train_test_split \n",
    "from keras.models import Sequential\n",
    "from keras.layers import Conv2D, MaxPool2D, Dense, Flatten, Dropout\n",
    "import matplotlib.pyplot as plt\n",
    "import plotly.express as px\n",
    "import random"
   ]
  },
  {
   "cell_type": "markdown",
   "id": "9c1326a0",
   "metadata": {},
   "source": [
    "## Setting the folder paths of testing and training data into variables\n",
    "**Doing this to imnprove code readability**"
   ]
  },
  {
   "cell_type": "code",
   "execution_count": 41,
   "id": "a0dec0f9",
   "metadata": {},
   "outputs": [
    {
     "name": "stdout",
     "output_type": "stream",
     "text": [
      "58\n"
     ]
    }
   ],
   "source": [
    "train_folder='traffic_Data/DATA'\n",
    "test_folder='traffic_Data/TEST'\n",
    "classes=pd.read_csv('labels.csv')\n",
    "classSize=len(classes)\n",
    "print(classSize)"
   ]
  },
  {
   "cell_type": "markdown",
   "id": "1c15b7c4",
   "metadata": {},
   "source": [
    "## Defining a function to load the images and their respective labels into arrays"
   ]
  },
  {
   "cell_type": "code",
   "execution_count": 42,
   "id": "1db52975",
   "metadata": {},
   "outputs": [],
   "source": [
    "traffic_data = []\n",
    "train_data=[]\n",
    "labels = []\n",
    "\n",
    "def fetch_image(traffic_data, labels):\n",
    "    for classValue in os.listdir(train_folder):\n",
    "        classPath=os.path.join(train_folder,classValue)\n",
    "        labels.append(classValue)\n",
    "        for trafficSignal in os.listdir(classPath):\n",
    "            imgTrafficSignal=Image.open(os.path.join(classPath,trafficSignal))\n",
    "            imgTrafficSignal = imgTrafficSignal.convert(\"L\")\n",
    "            imgTrafficSignal = imgTrafficSignal.resize((90,90))\n",
    "            imgTrafficSignal = np.array(imgTrafficSignal)\n",
    "            traffic_data.append((imgTrafficSignal,[int(classValue)]))\n",
    "        \n",
    "    labels=np.array(labels)\n",
    "    return traffic_data,labels"
   ]
  },
  {
   "cell_type": "markdown",
   "id": "dce9daec",
   "metadata": {},
   "source": [
    "## Spliting the training data into the features and labels respectively for model training\n",
    "**Further splitting the features and labels into training and validation data (1/3rd of the dataset used for validation)**"
   ]
  },
  {
   "cell_type": "code",
   "execution_count": 43,
   "id": "5b18acce",
   "metadata": {},
   "outputs": [
    {
     "name": "stdout",
     "output_type": "stream",
     "text": [
      "(2793, 90, 90)\n",
      "(2793, 1)\n"
     ]
    }
   ],
   "source": [
    "traffic_data, labels = fetch_image(traffic_data, labels)\n",
    "traffic_data_features, traffic_data_labels = zip(*traffic_data)\n",
    "training_data_features, validation_data_features, training_data_labels, validation_data_labels = train_test_split(traffic_data_features, traffic_data_labels, test_size=0.33, random_state=42)\n",
    "training_data_features = np.array(training_data_features)\n",
    "training_data_labels = np.array(training_data_labels)\n",
    "validation_data_features = np.array(validation_data_features)\n",
    "validation_data_labels = np.array(validation_data_labels)\n",
    "print(training_data_features.shape)\n",
    "print(training_data_labels.shape)"
   ]
  },
  {
   "cell_type": "markdown",
   "id": "5a86297a",
   "metadata": {},
   "source": [
    "## Defining a neural network using tensorflow and keras \n",
    "**Using a Convolutional neural network as CNN's are particularly useful for finding patterns in images to recognize objects, classes, and categories**"
   ]
  },
  {
   "cell_type": "code",
   "execution_count": 44,
   "id": "2f54d33e",
   "metadata": {},
   "outputs": [
    {
     "name": "stdout",
     "output_type": "stream",
     "text": [
      "(2793, 90, 90, 16)\n"
     ]
    }
   ],
   "source": [
    "cnnModel = Sequential()\n",
    "cnnModel.add(Conv2D(16,(3,3), padding=\"same\", input_shape=(90, 90, 1), activation='relu'))\n",
    "print(cnnModel(training_data_features).shape)\n",
    "cnnModel.add(MaxPool2D((2,2), strides=None, padding=\"same\"))\n",
    "cnnModel.add(Conv2D(32,(3,3), padding=\"same\", activation='relu'))\n",
    "cnnModel.add(MaxPool2D((2,2), strides=None, padding=\"same\"))\n",
    "cnnModel.add(Conv2D(64,(5,5), padding=\"same\", activation='relu'))\n",
    "cnnModel.add(MaxPool2D((2,2), strides=None, padding=\"same\"))\n",
    "cnnModel.add(Conv2D(128,(7,7), padding=\"same\", activation='relu'))\n",
    "cnnModel.add(MaxPool2D((2,2), strides=None, padding=\"same\"))\n",
    "cnnModel.add(Flatten())\n",
    "cnnModel.add(Dense(232, activation='relu'))\n",
    "cnnModel.add(Dense(116, activation='relu'))\n",
    "cnnModel.add(Dense(58, activation='softmax'))"
   ]
  },
  {
   "cell_type": "code",
   "execution_count": 45,
   "id": "31a42065",
   "metadata": {},
   "outputs": [
    {
     "name": "stdout",
     "output_type": "stream",
     "text": [
      "Model: \"sequential_1\"\n",
      "_________________________________________________________________\n",
      " Layer (type)                Output Shape              Param #   \n",
      "=================================================================\n",
      " conv2d_4 (Conv2D)           (None, 90, 90, 16)        160       \n",
      "                                                                 \n",
      " max_pooling2d_4 (MaxPoolin  (None, 45, 45, 16)        0         \n",
      " g2D)                                                            \n",
      "                                                                 \n",
      " conv2d_5 (Conv2D)           (None, 45, 45, 32)        4640      \n",
      "                                                                 \n",
      " max_pooling2d_5 (MaxPoolin  (None, 23, 23, 32)        0         \n",
      " g2D)                                                            \n",
      "                                                                 \n",
      " conv2d_6 (Conv2D)           (None, 23, 23, 64)        51264     \n",
      "                                                                 \n",
      " max_pooling2d_6 (MaxPoolin  (None, 12, 12, 64)        0         \n",
      " g2D)                                                            \n",
      "                                                                 \n",
      " conv2d_7 (Conv2D)           (None, 12, 12, 128)       401536    \n",
      "                                                                 \n",
      " max_pooling2d_7 (MaxPoolin  (None, 6, 6, 128)         0         \n",
      " g2D)                                                            \n",
      "                                                                 \n",
      " flatten_1 (Flatten)         (None, 4608)              0         \n",
      "                                                                 \n",
      " dense_3 (Dense)             (None, 232)               1069288   \n",
      "                                                                 \n",
      " dense_4 (Dense)             (None, 116)               27028     \n",
      "                                                                 \n",
      " dense_5 (Dense)             (None, 58)                6786      \n",
      "                                                                 \n",
      "=================================================================\n",
      "Total params: 1560702 (5.95 MB)\n",
      "Trainable params: 1560702 (5.95 MB)\n",
      "Non-trainable params: 0 (0.00 Byte)\n",
      "_________________________________________________________________\n"
     ]
    }
   ],
   "source": [
    "cnnModel.summary()"
   ]
  },
  {
   "cell_type": "markdown",
   "id": "4c58f7ec",
   "metadata": {},
   "source": [
    "## Compiling and fitting the model to the training data"
   ]
  },
  {
   "cell_type": "code",
   "execution_count": 71,
   "id": "91e340c9",
   "metadata": {},
   "outputs": [
    {
     "name": "stdout",
     "output_type": "stream",
     "text": [
      "Epoch 1/12\n"
     ]
    },
    {
     "name": "stderr",
     "output_type": "stream",
     "text": [
      "c:\\Users\\mustu\\anaconda3\\Lib\\site-packages\\keras\\src\\backend.py:5727: UserWarning: \"`sparse_categorical_crossentropy` received `from_logits=True`, but the `output` argument was produced by a Softmax activation and thus does not represent logits. Was this intended?\n",
      "  output, from_logits = _get_logits(\n"
     ]
    },
    {
     "name": "stdout",
     "output_type": "stream",
     "text": [
      "200/200 [==============================] - 7s 28ms/step - loss: 0.1290 - accuracy: 0.9696 - val_loss: 0.4056 - val_accuracy: 0.9521\n",
      "Epoch 2/12\n",
      "200/200 [==============================] - 5s 25ms/step - loss: 0.0447 - accuracy: 0.9846 - val_loss: 0.4265 - val_accuracy: 0.9405\n",
      "Epoch 3/12\n",
      "200/200 [==============================] - 5s 25ms/step - loss: 0.1201 - accuracy: 0.9681 - val_loss: 0.7562 - val_accuracy: 0.9194\n",
      "Epoch 4/12\n",
      "200/200 [==============================] - 5s 25ms/step - loss: 0.1028 - accuracy: 0.9764 - val_loss: 0.3786 - val_accuracy: 0.9463\n",
      "Epoch 5/12\n",
      "200/200 [==============================] - 5s 25ms/step - loss: 0.0751 - accuracy: 0.9835 - val_loss: 0.4838 - val_accuracy: 0.9187\n",
      "Epoch 6/12\n",
      "200/200 [==============================] - 5s 25ms/step - loss: 0.1006 - accuracy: 0.9814 - val_loss: 0.3059 - val_accuracy: 0.9542\n",
      "Epoch 7/12\n",
      "200/200 [==============================] - 5s 25ms/step - loss: 0.0108 - accuracy: 0.9964 - val_loss: 0.2959 - val_accuracy: 0.9651\n",
      "Epoch 8/12\n",
      "200/200 [==============================] - 5s 25ms/step - loss: 0.0630 - accuracy: 0.9864 - val_loss: 0.3455 - val_accuracy: 0.9572\n",
      "Epoch 9/12\n",
      "200/200 [==============================] - 5s 25ms/step - loss: 0.0698 - accuracy: 0.9842 - val_loss: 0.4425 - val_accuracy: 0.9557\n",
      "Epoch 10/12\n",
      "200/200 [==============================] - 5s 25ms/step - loss: 0.1723 - accuracy: 0.9653 - val_loss: 0.6761 - val_accuracy: 0.9121\n",
      "Epoch 11/12\n",
      "200/200 [==============================] - 5s 25ms/step - loss: 0.1570 - accuracy: 0.9660 - val_loss: 0.4594 - val_accuracy: 0.9521\n",
      "Epoch 12/12\n",
      "200/200 [==============================] - 5s 25ms/step - loss: 0.0360 - accuracy: 0.9889 - val_loss: 0.3510 - val_accuracy: 0.9608\n"
     ]
    }
   ],
   "source": [
    "cnnModel.compile(optimizer='adam', loss=tf.keras.losses.SparseCategoricalCrossentropy(from_logits=True), metrics=['accuracy'])\n",
    "trafficSignNetwork = cnnModel.fit(training_data_features, training_data_labels, batch_size=14, epochs=12, validation_data=(validation_data_features, validation_data_labels))"
   ]
  },
  {
   "cell_type": "markdown",
   "id": "897c83e0",
   "metadata": {},
   "source": [
    "## Graphical Representation of the accuracy of the model over the epochs"
   ]
  },
  {
   "cell_type": "code",
   "execution_count": 72,
   "id": "4784017f",
   "metadata": {},
   "outputs": [],
   "source": [
    "import seaborn as sns"
   ]
  },
  {
   "cell_type": "code",
   "execution_count": 73,
   "id": "d06cdd47",
   "metadata": {},
   "outputs": [
    {
     "data": {
      "text/plain": [
       "<Axes: >"
      ]
     },
     "execution_count": 73,
     "metadata": {},
     "output_type": "execute_result"
    },
    {
     "data": {
      "image/png": "[encoded data removed]",
      "text/plain": [
       "<Figure size 640x480 with 1 Axes>"
      ]
     },
     "metadata": {},
     "output_type": "display_data"
    }
   ],
   "source": [
    "sns.lineplot(trafficSignNetwork.history['accuracy'])"
   ]
  },
  {
   "cell_type": "markdown",
   "id": "3677215c",
   "metadata": {},
   "source": [
    "## Testing the model on unseen data "
   ]
  },
  {
   "cell_type": "code",
   "execution_count": 74,
   "id": "d89722da",
   "metadata": {},
   "outputs": [],
   "source": [
    "test_data=[]\n",
    "for test_image_file in os.listdir(test_folder):\n",
    "    testImage=Image.open(os.path.join(test_folder,test_image_file))\n",
    "    testImage=testImage.convert('L')\n",
    "    testImage=testImage.resize((90,90))\n",
    "    testImage=np.array(testImage)\n",
    "    test_data.append((testImage,[int(test_image_file[1:3])]))\n",
    "\n",
    "test_data_features, test_data_labels= zip(*test_data)\n",
    "test_data_features=np.array(test_data_features)\n",
    "test_data_labels=np.array(test_data_labels)"
   ]
  },
  {
   "cell_type": "code",
   "execution_count": 75,
   "id": "26e35853",
   "metadata": {},
   "outputs": [
    {
     "name": "stdout",
     "output_type": "stream",
     "text": [
      "63/63 [==============================] - 1s 15ms/step\n"
     ]
    },
    {
     "data": {
      "text/plain": [
       "array([[2.76383851e-03, 8.65285656e-08, 5.43413160e-04, ...,\n",
       "        3.72789538e-04, 2.06730983e-04, 7.86447163e-06],\n",
       "       [9.99997735e-01, 7.83427685e-13, 4.76825948e-18, ...,\n",
       "        1.23013665e-36, 2.49933293e-13, 9.86359112e-23],\n",
       "       [9.99919415e-01, 2.84140802e-15, 7.02362837e-14, ...,\n",
       "        1.11642861e-28, 5.07714149e-10, 8.29800459e-17],\n",
       "       ...,\n",
       "       [3.03119418e-28, 1.06210974e-30, 6.24695135e-20, ...,\n",
       "        1.18974979e-25, 6.24149648e-20, 1.00000000e+00],\n",
       "       [4.17937367e-21, 4.31690846e-23, 5.12721643e-16, ...,\n",
       "        1.26883498e-21, 1.83669438e-15, 1.00000000e+00],\n",
       "       [3.03119418e-28, 1.06210974e-30, 6.24695135e-20, ...,\n",
       "        1.18974979e-25, 6.24149648e-20, 1.00000000e+00]], dtype=float32)"
      ]
     },
     "execution_count": 75,
     "metadata": {},
     "output_type": "execute_result"
    }
   ],
   "source": [
    "predictions=cnnModel.predict(test_data_features)\n",
    "predictions"
   ]
  },
  {
   "cell_type": "code",
   "execution_count": 76,
   "id": "6dbfea89",
   "metadata": {},
   "outputs": [],
   "source": [
    "predicted_labels=np.argmax(predictions, axis=1)"
   ]
  },
  {
   "cell_type": "code",
   "execution_count": 77,
   "id": "2e340c06",
   "metadata": {},
   "outputs": [
    {
     "data": {
      "text/plain": [
       "array([32,  0,  0, ..., 57, 57, 57], dtype=int64)"
      ]
     },
     "execution_count": 77,
     "metadata": {},
     "output_type": "execute_result"
    }
   ],
   "source": [
    "predicted_labels"
   ]
  },
  {
   "cell_type": "code",
   "execution_count": 78,
   "id": "a0dbffc3",
   "metadata": {},
   "outputs": [
    {
     "name": "stdout",
     "output_type": "stream",
     "text": [
      "32           Road Divider\n",
      "0     Speed limit (5km/h)\n",
      "0     Speed limit (5km/h)\n",
      "0     Speed limit (5km/h)\n",
      "0     Speed limit (5km/h)\n",
      "             ...         \n",
      "56               Unknown7\n",
      "57               Unknown8\n",
      "57               Unknown8\n",
      "57               Unknown8\n",
      "57               Unknown8\n",
      "Name: Name, Length: 1994, dtype: object\n"
     ]
    }
   ],
   "source": [
    "print(classes['Name'][predicted_labels])"
   ]
  },
  {
   "cell_type": "code",
   "execution_count": 79,
   "id": "201103f8",
   "metadata": {},
   "outputs": [
    {
     "name": "stdout",
     "output_type": "stream",
     "text": [
      "0     Speed limit (5km/h)\n",
      "0     Speed limit (5km/h)\n",
      "0     Speed limit (5km/h)\n",
      "0     Speed limit (5km/h)\n",
      "0     Speed limit (5km/h)\n",
      "             ...         \n",
      "56               Unknown7\n",
      "57               Unknown8\n",
      "57               Unknown8\n",
      "57               Unknown8\n",
      "57               Unknown8\n",
      "Name: Name, Length: 1994, dtype: object\n"
     ]
    }
   ],
   "source": [
    "print(classes['Name'][test_data_labels[:,0]])"
   ]
  },
  {
   "cell_type": "markdown",
   "id": "1b33209e",
   "metadata": {},
   "source": [
    "## Saving the model in both .h5 and .keras file formats for use in applications"
   ]
  },
  {
   "cell_type": "code",
   "execution_count": 88,
   "id": "816da3fa",
   "metadata": {},
   "outputs": [
    {
     "name": "stderr",
     "output_type": "stream",
     "text": [
      "c:\\Users\\mustu\\anaconda3\\Lib\\site-packages\\keras\\src\\engine\\training.py:3103: UserWarning: You are saving your model as an HDF5 file via `model.save()`. This file format is considered legacy. We recommend using instead the native Keras format, e.g. `model.save('my_model.keras')`.\n",
      "  saving_api.save_model(\n"
     ]
    }
   ],
   "source": [
    "cnnModel.save(\"model.h5\")"
   ]
  },
  {
   "cell_type": "code",
   "execution_count": 89,
   "id": "5be90cd9",
   "metadata": {},
   "outputs": [],
   "source": [
    "cnnModel.save(\"model.keras\")"
   ]
  }
 ],
 "metadata": {
  "kernelspec": {
   "display_name": "Python 3 (ipykernel)",
   "language": "python",
   "name": "python3"
  },
  "language_info": {
   "codemirror_mode": {
    "name": "ipython",
    "version": 3
   },
   "file_extension": ".py",
   "mimetype": "text/x-python",
   "name": "python",
   "nbconvert_exporter": "python",
   "pygments_lexer": "ipython3",
   "version": "3.11.5"
  }
 },
 "nbformat": 4,
 "nbformat_minor": 5
}

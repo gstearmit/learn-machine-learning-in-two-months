{
 "cells": [
  {
   "cell_type": "code",
   "execution_count": 1,
   "metadata": {},
   "outputs": [
    {
     "name": "stderr",
     "output_type": "stream",
     "text": [
      "C:\\Users\\DELL\\Anaconda3\\lib\\site-packages\\h5py\\__init__.py:36: FutureWarning: Conversion of the second argument of issubdtype from `float` to `np.floating` is deprecated. In future, it will be treated as `np.float64 == np.dtype(float).type`.\n",
      "  from ._conv import register_converters as _register_converters\n",
      "Using TensorFlow backend.\n"
     ]
    }
   ],
   "source": [
    "import numpy as np\n",
    "import matplotlib.pyplot as plt\n",
    "from keras.datasets import mnist\n",
    "from keras.utils import to_categorical, plot_model\n",
    "from keras.layers import Dense, SimpleRNN, Dropout\n",
    "from keras.models import Sequential"
   ]
  },
  {
   "cell_type": "code",
   "execution_count": 2,
   "metadata": {},
   "outputs": [
    {
     "name": "stdout",
     "output_type": "stream",
     "text": [
      "(60000, 28, 28)\n"
     ]
    }
   ],
   "source": [
    "(x_train, y_train), (x_test, y_test) = mnist.load_data()\n",
    "\n",
    "y_train = to_categorical(y_train)\n",
    "y_test = to_categorical(y_test)\n",
    "\n",
    "#x_train = x_train.reshape(x_train.shape[0], x_train.shape[1], x_train.shape[2], 1)\n",
    "#x_test = x_test.reshape(x_test.shape[0], x_test.shape[1], x_test.shape[2], 1)\n",
    "print(x_train.shape)\n",
    "x_train = x_train/255.\n",
    "x_test = x_test/255."
   ]
  },
  {
   "cell_type": "code",
   "execution_count": 3,
   "metadata": {},
   "outputs": [
    {
     "name": "stdout",
     "output_type": "stream",
     "text": [
      "_________________________________________________________________\n",
      "Layer (type)                 Output Shape              Param #   \n",
      "=================================================================\n",
      "simple_rnn_1 (SimpleRNN)     (None, 128)               20096     \n",
      "_________________________________________________________________\n",
      "dense_1 (Dense)              (None, 10)                1290      \n",
      "=================================================================\n",
      "Total params: 21,386\n",
      "Trainable params: 21,386\n",
      "Non-trainable params: 0\n",
      "_________________________________________________________________\n"
     ]
    }
   ],
   "source": [
    "model  = Sequential()\n",
    "model.add(SimpleRNN(units=128, dropout=0.2, input_shape=(28,28)))\n",
    "model.add(Dense(10, activation='softmax'))\n",
    "\n",
    "model.summary()"
   ]
  },
  {
   "cell_type": "code",
   "execution_count": 5,
   "metadata": {},
   "outputs": [
    {
     "name": "stdout",
     "output_type": "stream",
     "text": [
      "Train on 60000 samples, validate on 10000 samples\n",
      "Epoch 1/20\n",
      "60000/60000 [==============================] - 10s 173us/step - loss: 0.1296 - acc: 0.9619 - val_loss: 0.0906 - val_acc: 0.9733\n",
      "Epoch 2/20\n",
      "60000/60000 [==============================] - 10s 164us/step - loss: 0.1216 - acc: 0.9639 - val_loss: 0.0868 - val_acc: 0.9740\n",
      "Epoch 3/20\n",
      "60000/60000 [==============================] - 10s 166us/step - loss: 0.1169 - acc: 0.9646 - val_loss: 0.0879 - val_acc: 0.9736\n",
      "Epoch 4/20\n",
      "60000/60000 [==============================] - 10s 173us/step - loss: 0.1124 - acc: 0.9662 - val_loss: 0.1072 - val_acc: 0.9676\n",
      "Epoch 5/20\n",
      "60000/60000 [==============================] - 10s 170us/step - loss: 0.1121 - acc: 0.9664 - val_loss: 0.0872 - val_acc: 0.9736\n",
      "Epoch 6/20\n",
      "60000/60000 [==============================] - 10s 166us/step - loss: 0.1101 - acc: 0.9671 - val_loss: 0.0785 - val_acc: 0.9766\n",
      "Epoch 7/20\n",
      "60000/60000 [==============================] - 9s 157us/step - loss: 0.1075 - acc: 0.9677 - val_loss: 0.0815 - val_acc: 0.9753\n",
      "Epoch 8/20\n",
      "60000/60000 [==============================] - 9s 156us/step - loss: 0.1042 - acc: 0.9688 - val_loss: 0.0777 - val_acc: 0.9763\n",
      "Epoch 9/20\n",
      "60000/60000 [==============================] - 10s 163us/step - loss: 0.1050 - acc: 0.9683 - val_loss: 0.0848 - val_acc: 0.9740\n",
      "Epoch 10/20\n",
      "60000/60000 [==============================] - 10s 162us/step - loss: 0.1033 - acc: 0.9695 - val_loss: 0.0771 - val_acc: 0.9759\n",
      "Epoch 11/20\n",
      "60000/60000 [==============================] - 10s 162us/step - loss: 0.1008 - acc: 0.9699 - val_loss: 0.0726 - val_acc: 0.9771\n",
      "Epoch 12/20\n",
      "60000/60000 [==============================] - 10s 161us/step - loss: 0.0982 - acc: 0.9704 - val_loss: 0.0812 - val_acc: 0.9755\n",
      "Epoch 13/20\n",
      "60000/60000 [==============================] - 10s 161us/step - loss: 0.0974 - acc: 0.9702 - val_loss: 0.0767 - val_acc: 0.9766\n",
      "Epoch 14/20\n",
      "60000/60000 [==============================] - 10s 163us/step - loss: 0.0981 - acc: 0.9707 - val_loss: 0.0736 - val_acc: 0.9780\n",
      "Epoch 15/20\n",
      "60000/60000 [==============================] - 10s 162us/step - loss: 0.0950 - acc: 0.9714 - val_loss: 0.0813 - val_acc: 0.9747\n",
      "Epoch 16/20\n",
      "60000/60000 [==============================] - 10s 162us/step - loss: 0.0921 - acc: 0.9727 - val_loss: 0.0711 - val_acc: 0.9789\n",
      "Epoch 17/20\n",
      "60000/60000 [==============================] - 10s 172us/step - loss: 0.0925 - acc: 0.9721 - val_loss: 0.0703 - val_acc: 0.9786\n",
      "Epoch 18/20\n",
      "60000/60000 [==============================] - 10s 172us/step - loss: 0.0922 - acc: 0.9725 - val_loss: 0.0727 - val_acc: 0.9777\n",
      "Epoch 19/20\n",
      "60000/60000 [==============================] - 10s 171us/step - loss: 0.0924 - acc: 0.9727 - val_loss: 0.0722 - val_acc: 0.9773\n",
      "Epoch 20/20\n",
      "60000/60000 [==============================] - 10s 171us/step - loss: 0.0898 - acc: 0.9733 - val_loss: 0.0702 - val_acc: 0.9788\n"
     ]
    },
    {
     "data": {
      "text/plain": [
       "<keras.callbacks.History at 0x2182d640d30>"
      ]
     },
     "execution_count": 5,
     "metadata": {},
     "output_type": "execute_result"
    }
   ],
   "source": [
    "model.compile(loss='categorical_crossentropy', optimizer='sgd', metrics=['accuracy'])\n",
    "model.fit(x_train, y_train, validation_data = (x_test, y_test), epochs=20, batch_size=128)"
   ]
  }
 ],
 "metadata": {
  "kernelspec": {
   "display_name": "Python 3",
   "language": "python",
   "name": "python3"
  },
  "language_info": {
   "codemirror_mode": {
    "name": "ipython",
    "version": 3
   },
   "file_extension": ".py",
   "mimetype": "text/x-python",
   "name": "python",
   "nbconvert_exporter": "python",
   "pygments_lexer": "ipython3",
   "version": "3.6.5"
  }
 },
 "nbformat": 4,
 "nbformat_minor": 2
}

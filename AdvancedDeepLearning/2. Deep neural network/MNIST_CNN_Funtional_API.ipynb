{
 "cells": [
  {
   "cell_type": "code",
   "execution_count": 1,
   "metadata": {},
   "outputs": [
    {
     "name": "stderr",
     "output_type": "stream",
     "text": [
      "C:\\Users\\DELL\\Anaconda3\\lib\\site-packages\\h5py\\__init__.py:36: FutureWarning: Conversion of the second argument of issubdtype from `float` to `np.floating` is deprecated. In future, it will be treated as `np.float64 == np.dtype(float).type`.\n",
      "  from ._conv import register_converters as _register_converters\n",
      "Using TensorFlow backend.\n"
     ]
    }
   ],
   "source": [
    "import numpy as np\n",
    "import matplotlib.pyplot as plt\n",
    "from keras.datasets import mnist\n",
    "from keras.utils import to_categorical, plot_model\n",
    "from keras.layers import Input, Dense, Conv2D, MaxPooling2D, Flatten, Dropout\n",
    "from keras.models import Sequential, Model"
   ]
  },
  {
   "cell_type": "code",
   "execution_count": 2,
   "metadata": {},
   "outputs": [
    {
     "name": "stdout",
     "output_type": "stream",
     "text": [
      "(60000, 28, 28, 1)\n"
     ]
    }
   ],
   "source": [
    "(x_train, y_train), (x_test, y_test) = mnist.load_data()\n",
    "\n",
    "y_train = to_categorical(y_train)\n",
    "y_test = to_categorical(y_test)\n",
    "\n",
    "x_train = x_train.reshape(x_train.shape[0], x_train.shape[1], x_train.shape[2], 1)\n",
    "x_test = x_test.reshape(x_test.shape[0], x_test.shape[1], x_test.shape[2], 1)\n",
    "print(x_train.shape)\n",
    "x_train = x_train/255.\n",
    "x_test = x_test/255."
   ]
  },
  {
   "cell_type": "code",
   "execution_count": 5,
   "metadata": {},
   "outputs": [
    {
     "name": "stdout",
     "output_type": "stream",
     "text": [
      "_________________________________________________________________\n",
      "Layer (type)                 Output Shape              Param #   \n",
      "=================================================================\n",
      "input_3 (InputLayer)         (None, 28, 28, 1)         0         \n",
      "_________________________________________________________________\n",
      "conv2d_5 (Conv2D)            (None, 28, 28, 64)        640       \n",
      "_________________________________________________________________\n",
      "max_pooling2d_5 (MaxPooling2 (None, 14, 14, 64)        0         \n",
      "_________________________________________________________________\n",
      "conv2d_6 (Conv2D)            (None, 14, 14, 64)        36928     \n",
      "_________________________________________________________________\n",
      "max_pooling2d_6 (MaxPooling2 (None, 7, 7, 64)          0         \n",
      "_________________________________________________________________\n",
      "flatten_3 (Flatten)          (None, 3136)              0         \n",
      "_________________________________________________________________\n",
      "dense_5 (Dense)              (None, 64)                200768    \n",
      "_________________________________________________________________\n",
      "dropout_3 (Dropout)          (None, 64)                0         \n",
      "_________________________________________________________________\n",
      "dense_6 (Dense)              (None, 10)                650       \n",
      "=================================================================\n",
      "Total params: 238,986\n",
      "Trainable params: 238,986\n",
      "Non-trainable params: 0\n",
      "_________________________________________________________________\n"
     ]
    }
   ],
   "source": [
    "inputs = Input(shape=(28,28,1))\n",
    "y = Conv2D(64, (3,3), padding='same', activation='relu')(inputs)\n",
    "y = MaxPooling2D()(y)\n",
    "y = Conv2D(64, (3,3), padding='same', activation='relu')(y)\n",
    "y = MaxPooling2D()(y)\n",
    "y = Flatten()(y)\n",
    "y = Dense(64, activation='relu')(y)\n",
    "y = Dropout(0.2)(y)\n",
    "outputs = Dense(10, activation='softmax')(y)\n",
    "\n",
    "model = Model(inputs=inputs, outputs=outputs)\n",
    "model.summary()"
   ]
  },
  {
   "cell_type": "code",
   "execution_count": 6,
   "metadata": {},
   "outputs": [
    {
     "name": "stdout",
     "output_type": "stream",
     "text": [
      "Train on 60000 samples, validate on 10000 samples\n",
      "Epoch 1/10\n",
      "60000/60000 [==============================] - 18s 299us/step - loss: 0.1643 - acc: 0.9501 - val_loss: 0.0497 - val_acc: 0.9843\n",
      "Epoch 2/10\n",
      "60000/60000 [==============================] - 12s 193us/step - loss: 0.0596 - acc: 0.9820 - val_loss: 0.0375 - val_acc: 0.9879\n",
      "Epoch 3/10\n",
      "60000/60000 [==============================] - 12s 193us/step - loss: 0.0448 - acc: 0.9864 - val_loss: 0.0302 - val_acc: 0.9903\n",
      "Epoch 4/10\n",
      "60000/60000 [==============================] - 12s 195us/step - loss: 0.0325 - acc: 0.9899 - val_loss: 0.0230 - val_acc: 0.9929\n",
      "Epoch 5/10\n",
      "60000/60000 [==============================] - 12s 195us/step - loss: 0.0271 - acc: 0.9913 - val_loss: 0.0251 - val_acc: 0.9920\n",
      "Epoch 6/10\n",
      "60000/60000 [==============================] - 12s 193us/step - loss: 0.0220 - acc: 0.9929 - val_loss: 0.0298 - val_acc: 0.9921\n",
      "Epoch 7/10\n",
      "60000/60000 [==============================] - 12s 197us/step - loss: 0.0182 - acc: 0.9946 - val_loss: 0.0260 - val_acc: 0.9923\n",
      "Epoch 8/10\n",
      "60000/60000 [==============================] - 13s 215us/step - loss: 0.0169 - acc: 0.9945 - val_loss: 0.0345 - val_acc: 0.9900\n",
      "Epoch 9/10\n",
      "60000/60000 [==============================] - 13s 212us/step - loss: 0.0144 - acc: 0.9953 - val_loss: 0.0234 - val_acc: 0.9930\n",
      "Epoch 10/10\n",
      "60000/60000 [==============================] - 13s 211us/step - loss: 0.0121 - acc: 0.9960 - val_loss: 0.0296 - val_acc: 0.9934\n"
     ]
    },
    {
     "data": {
      "text/plain": [
       "<keras.callbacks.History at 0x245e386c7f0>"
      ]
     },
     "execution_count": 6,
     "metadata": {},
     "output_type": "execute_result"
    }
   ],
   "source": [
    "model.compile(loss='categorical_crossentropy', optimizer='adam', metrics=['accuracy'])\n",
    "model.fit(x_train, y_train, validation_data = (x_test, y_test), epochs=10, batch_size=32)"
   ]
  }
 ],
 "metadata": {
  "kernelspec": {
   "display_name": "Python 3",
   "language": "python",
   "name": "python3"
  },
  "language_info": {
   "codemirror_mode": {
    "name": "ipython",
    "version": 3
   },
   "file_extension": ".py",
   "mimetype": "text/x-python",
   "name": "python",
   "nbconvert_exporter": "python",
   "pygments_lexer": "ipython3",
   "version": "3.6.5"
  }
 },
 "nbformat": 4,
 "nbformat_minor": 2
}

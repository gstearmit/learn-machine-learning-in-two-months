{
 "cells": [
  {
   "cell_type": "code",
   "execution_count": 1,
   "metadata": {},
   "outputs": [
    {
     "name": "stderr",
     "output_type": "stream",
     "text": [
      "C:\\Users\\DELL\\Anaconda3\\lib\\site-packages\\h5py\\__init__.py:36: FutureWarning: Conversion of the second argument of issubdtype from `float` to `np.floating` is deprecated. In future, it will be treated as `np.float64 == np.dtype(float).type`.\n",
      "  from ._conv import register_converters as _register_converters\n",
      "Using TensorFlow backend.\n"
     ]
    }
   ],
   "source": [
    "import numpy as np\n",
    "import matplotlib.pyplot as plt\n",
    "from keras.datasets import mnist\n",
    "from keras.utils import to_categorical, plot_model\n",
    "from keras.layers import Input, Dense, Conv2D, MaxPooling2D, Flatten, Dropout\n",
    "from keras.layers.merge import concatenate\n",
    "from keras.models import Sequential, Model"
   ]
  },
  {
   "cell_type": "code",
   "execution_count": 2,
   "metadata": {},
   "outputs": [
    {
     "name": "stdout",
     "output_type": "stream",
     "text": [
      "(60000, 28, 28, 1)\n"
     ]
    }
   ],
   "source": [
    "(x_train, y_train), (x_test, y_test) = mnist.load_data()\n",
    "\n",
    "y_train = to_categorical(y_train)\n",
    "y_test = to_categorical(y_test)\n",
    "\n",
    "x_train = x_train.reshape(x_train.shape[0], x_train.shape[1], x_train.shape[2], 1)\n",
    "x_test = x_test.reshape(x_test.shape[0], x_test.shape[1], x_test.shape[2], 1)\n",
    "print(x_train.shape)\n",
    "x_train = x_train/255.\n",
    "x_test = x_test/255."
   ]
  },
  {
   "cell_type": "code",
   "execution_count": 3,
   "metadata": {},
   "outputs": [
    {
     "name": "stdout",
     "output_type": "stream",
     "text": [
      "__________________________________________________________________________________________________\n",
      "Layer (type)                    Output Shape         Param #     Connected to                     \n",
      "==================================================================================================\n",
      "input_2 (InputLayer)            (None, 28, 28, 1)    0                                            \n",
      "__________________________________________________________________________________________________\n",
      "input_1 (InputLayer)            (None, 28, 28, 1)    0                                            \n",
      "__________________________________________________________________________________________________\n",
      "conv2d_4 (Conv2D)               (None, 28, 28, 32)   320         input_2[0][0]                    \n",
      "__________________________________________________________________________________________________\n",
      "conv2d_1 (Conv2D)               (None, 28, 28, 32)   320         input_1[0][0]                    \n",
      "__________________________________________________________________________________________________\n",
      "max_pooling2d_4 (MaxPooling2D)  (None, 14, 14, 32)   0           conv2d_4[0][0]                   \n",
      "__________________________________________________________________________________________________\n",
      "max_pooling2d_1 (MaxPooling2D)  (None, 14, 14, 32)   0           conv2d_1[0][0]                   \n",
      "__________________________________________________________________________________________________\n",
      "conv2d_5 (Conv2D)               (None, 14, 14, 64)   18496       max_pooling2d_4[0][0]            \n",
      "__________________________________________________________________________________________________\n",
      "conv2d_2 (Conv2D)               (None, 14, 14, 64)   18496       max_pooling2d_1[0][0]            \n",
      "__________________________________________________________________________________________________\n",
      "max_pooling2d_5 (MaxPooling2D)  (None, 7, 7, 64)     0           conv2d_5[0][0]                   \n",
      "__________________________________________________________________________________________________\n",
      "max_pooling2d_2 (MaxPooling2D)  (None, 7, 7, 64)     0           conv2d_2[0][0]                   \n",
      "__________________________________________________________________________________________________\n",
      "conv2d_6 (Conv2D)               (None, 7, 7, 128)    73856       max_pooling2d_5[0][0]            \n",
      "__________________________________________________________________________________________________\n",
      "conv2d_3 (Conv2D)               (None, 7, 7, 128)    73856       max_pooling2d_2[0][0]            \n",
      "__________________________________________________________________________________________________\n",
      "max_pooling2d_6 (MaxPooling2D)  (None, 3, 3, 128)    0           conv2d_6[0][0]                   \n",
      "__________________________________________________________________________________________________\n",
      "max_pooling2d_3 (MaxPooling2D)  (None, 3, 3, 128)    0           conv2d_3[0][0]                   \n",
      "__________________________________________________________________________________________________\n",
      "concatenate_1 (Concatenate)     (None, 3, 3, 256)    0           max_pooling2d_6[0][0]            \n",
      "                                                                 max_pooling2d_3[0][0]            \n",
      "__________________________________________________________________________________________________\n",
      "flatten_1 (Flatten)             (None, 2304)         0           concatenate_1[0][0]              \n",
      "__________________________________________________________________________________________________\n",
      "dense_1 (Dense)                 (None, 64)           147520      flatten_1[0][0]                  \n",
      "__________________________________________________________________________________________________\n",
      "dropout_1 (Dropout)             (None, 64)           0           dense_1[0][0]                    \n",
      "__________________________________________________________________________________________________\n",
      "dense_2 (Dense)                 (None, 10)           650         dropout_1[0][0]                  \n",
      "==================================================================================================\n",
      "Total params: 333,514\n",
      "Trainable params: 333,514\n",
      "Non-trainable params: 0\n",
      "__________________________________________________________________________________________________\n"
     ]
    }
   ],
   "source": [
    "# Left wing\n",
    "left_inputs = Input(shape=(28,28,1))\n",
    "y = left_inputs\n",
    "filters = 32\n",
    "for i in range(3):\n",
    "    y = Conv2D(filters, (3,3), padding='same', activation='relu')(y)\n",
    "    y = MaxPooling2D()(y)\n",
    "    filters *= 2\n",
    "\n",
    "# Right wing\n",
    "right_inputs = Input(shape=(28,28,1))\n",
    "x = right_inputs\n",
    "filters = 32\n",
    "for i in range(3):\n",
    "    x = Conv2D(filters, (3,3), padding='same', activation='relu')(x)\n",
    "    x = MaxPooling2D()(x)\n",
    "    filters *= 2\n",
    "\n",
    "z = concatenate([x,y])\n",
    "z = Flatten()(z)\n",
    "z = Dense(64, activation='relu')(z)\n",
    "z = Dropout(0.2)(z)\n",
    "outputs = Dense(10, activation='softmax')(z)\n",
    "\n",
    "model = Model(inputs=[left_inputs, right_inputs], outputs=outputs)\n",
    "model.summary()"
   ]
  },
  {
   "cell_type": "code",
   "execution_count": 4,
   "metadata": {},
   "outputs": [
    {
     "name": "stdout",
     "output_type": "stream",
     "text": [
      "Train on 60000 samples, validate on 10000 samples\n",
      "Epoch 1/20\n",
      "60000/60000 [==============================] - 21s 350us/step - loss: 0.1748 - acc: 0.9471 - val_loss: 0.0467 - val_acc: 0.9845\n",
      "Epoch 2/20\n",
      "60000/60000 [==============================] - 19s 314us/step - loss: 0.0568 - acc: 0.9833 - val_loss: 0.0298 - val_acc: 0.9911\n",
      "Epoch 3/20\n",
      "60000/60000 [==============================] - 19s 316us/step - loss: 0.0421 - acc: 0.9877 - val_loss: 0.0248 - val_acc: 0.9920\n",
      "Epoch 4/20\n",
      "60000/60000 [==============================] - 19s 315us/step - loss: 0.0315 - acc: 0.9903 - val_loss: 0.0284 - val_acc: 0.9911\n",
      "Epoch 5/20\n",
      "60000/60000 [==============================] - 18s 307us/step - loss: 0.0256 - acc: 0.9923 - val_loss: 0.0274 - val_acc: 0.9921\n",
      "Epoch 6/20\n",
      "60000/60000 [==============================] - 18s 307us/step - loss: 0.0209 - acc: 0.9939 - val_loss: 0.0260 - val_acc: 0.9921\n",
      "Epoch 7/20\n",
      "60000/60000 [==============================] - 19s 309us/step - loss: 0.0188 - acc: 0.9943 - val_loss: 0.0278 - val_acc: 0.9923\n",
      "Epoch 8/20\n",
      "60000/60000 [==============================] - 18s 305us/step - loss: 0.0175 - acc: 0.9947 - val_loss: 0.0394 - val_acc: 0.9891\n",
      "Epoch 9/20\n",
      "60000/60000 [==============================] - 18s 304us/step - loss: 0.0147 - acc: 0.9956 - val_loss: 0.0237 - val_acc: 0.9935\n",
      "Epoch 10/20\n",
      "60000/60000 [==============================] - 19s 310us/step - loss: 0.0116 - acc: 0.9964 - val_loss: 0.0389 - val_acc: 0.9909\n",
      "Epoch 11/20\n",
      "60000/60000 [==============================] - 18s 306us/step - loss: 0.0127 - acc: 0.9964 - val_loss: 0.0290 - val_acc: 0.9922\n",
      "Epoch 12/20\n",
      "60000/60000 [==============================] - 18s 306us/step - loss: 0.0119 - acc: 0.9966 - val_loss: 0.0263 - val_acc: 0.9931\n",
      "Epoch 13/20\n",
      "60000/60000 [==============================] - 18s 303us/step - loss: 0.0097 - acc: 0.9971 - val_loss: 0.0301 - val_acc: 0.9929\n",
      "Epoch 14/20\n",
      "60000/60000 [==============================] - 18s 301us/step - loss: 0.0096 - acc: 0.9972 - val_loss: 0.0372 - val_acc: 0.9923\n",
      "Epoch 15/20\n",
      "60000/60000 [==============================] - 18s 302us/step - loss: 0.0092 - acc: 0.9972 - val_loss: 0.0405 - val_acc: 0.9925\n",
      "Epoch 16/20\n",
      "60000/60000 [==============================] - 18s 303us/step - loss: 0.0085 - acc: 0.9974 - val_loss: 0.0318 - val_acc: 0.9923\n",
      "Epoch 17/20\n",
      "60000/60000 [==============================] - 18s 308us/step - loss: 0.0091 - acc: 0.9973 - val_loss: 0.0369 - val_acc: 0.9921\n",
      "Epoch 18/20\n",
      "60000/60000 [==============================] - 19s 310us/step - loss: 0.0076 - acc: 0.9978 - val_loss: 0.0392 - val_acc: 0.9922\n",
      "Epoch 19/20\n",
      "60000/60000 [==============================] - 19s 309us/step - loss: 0.0080 - acc: 0.9976 - val_loss: 0.0487 - val_acc: 0.9899\n",
      "Epoch 20/20\n",
      "60000/60000 [==============================] - 18s 304us/step - loss: 0.0075 - acc: 0.9979 - val_loss: 0.0486 - val_acc: 0.9920\n"
     ]
    },
    {
     "data": {
      "text/plain": [
       "<keras.callbacks.History at 0x16d020d0a20>"
      ]
     },
     "execution_count": 4,
     "metadata": {},
     "output_type": "execute_result"
    }
   ],
   "source": [
    "model.compile(loss='categorical_crossentropy', optimizer='adam', metrics=['accuracy'])\n",
    "model.fit([x_train, x_train], y_train, validation_data = ([x_test, x_test], y_test), epochs=20, batch_size=32)"
   ]
  }
 ],
 "metadata": {
  "kernelspec": {
   "display_name": "Python 3",
   "language": "python",
   "name": "python3"
  },
  "language_info": {
   "codemirror_mode": {
    "name": "ipython",
    "version": 3
   },
   "file_extension": ".py",
   "mimetype": "text/x-python",
   "name": "python",
   "nbconvert_exporter": "python",
   "pygments_lexer": "ipython3",
   "version": "3.6.5"
  }
 },
 "nbformat": 4,
 "nbformat_minor": 2
}
